{
 "cells": [
  {
   "cell_type": "code",
   "execution_count": null,
   "id": "b9e00f49",
   "metadata": {},
   "outputs": [],
   "source": [
    "# pip install plotly==5.10.0"
   ]
  },
  {
   "cell_type": "code",
   "execution_count": null,
   "id": "5621ad8a",
   "metadata": {},
   "outputs": [],
   "source": [
    "# pip install chart-studio==1.1.0"
   ]
  },
  {
   "cell_type": "code",
   "execution_count": 2,
   "id": "de3544bb",
   "metadata": {},
   "outputs": [],
   "source": [
    "import pandas as pd\n",
    "import numpy as np\n",
    "import os\n",
    "\n",
    "import matplotlib.pyplot as plt\n",
    "import seaborn as sns\n",
    "import chart_studio.plotly as py\n",
    "\n",
    "os.chdir(r'C:\\Users\\monam\\Desktop\\dataitgirls 6\\SQL\\2차프로젝트')"
   ]
  },
  {
   "cell_type": "code",
   "execution_count": 3,
   "id": "a0a4ebf0",
   "metadata": {},
   "outputs": [
    {
     "name": "stdout",
     "output_type": "stream",
     "text": [
      " C 드라이브의 볼륨에는 이름이 없습니다.\n",
      " 볼륨 일련 번호: 4239-0956\n",
      "\n",
      " C:\\Users\\monam\\Desktop\\dataitgirls 6\\SQL\\2차프로젝트 디렉터리\n",
      "\n",
      "2022-08-28  오전 02:30    <DIR>          .\n",
      "2022-08-24  오후 03:47    <DIR>          ..\n",
      "2022-08-27  오전 12:29        36,127,865 articles.csv\n",
      "2022-08-24  오전 09:40        38,868,304 articles.sql\n",
      "2022-08-28  오전 02:30       207,135,859 customers.csv\n",
      "2022-08-24  오전 09:41       226,300,230 customers.sql\n",
      "2022-08-24  오후 06:57               254 SQL 데이터 탐색 및 전처리.sql\n",
      "2022-08-24  오전 09:49     3,587,206,729 transactions.sql\n",
      "2022-08-28  오전 02:30     3,488,002,253 transactions_train.csv\n",
      "2022-08-11  오후 05:08               107 유용한사이트.txt\n",
      "2022-08-23  오전 09:38               164 이메일주소.txt\n",
      "               9개 파일       7,583,641,765 바이트\n",
      "               2개 디렉터리  62,821,187,584 바이트 남음\n"
     ]
    }
   ],
   "source": [
    "ls"
   ]
  },
  {
   "cell_type": "code",
   "execution_count": 4,
   "id": "efc00b55",
   "metadata": {
    "scrolled": true
   },
   "outputs": [
    {
     "data": {
      "text/html": [
       "<div>\n",
       "<style scoped>\n",
       "    .dataframe tbody tr th:only-of-type {\n",
       "        vertical-align: middle;\n",
       "    }\n",
       "\n",
       "    .dataframe tbody tr th {\n",
       "        vertical-align: top;\n",
       "    }\n",
       "\n",
       "    .dataframe thead th {\n",
       "        text-align: right;\n",
       "    }\n",
       "</style>\n",
       "<table border=\"1\" class=\"dataframe\">\n",
       "  <thead>\n",
       "    <tr style=\"text-align: right;\">\n",
       "      <th></th>\n",
       "      <th>article_id</th>\n",
       "      <th>product_code</th>\n",
       "      <th>prod_name</th>\n",
       "      <th>product_type_no</th>\n",
       "      <th>product_type_name</th>\n",
       "      <th>product_group_name</th>\n",
       "      <th>graphical_appearance_no</th>\n",
       "      <th>graphical_appearance_name</th>\n",
       "      <th>colour_group_code</th>\n",
       "      <th>colour_group_name</th>\n",
       "      <th>...</th>\n",
       "      <th>department_name</th>\n",
       "      <th>index_code</th>\n",
       "      <th>index_name</th>\n",
       "      <th>index_group_no</th>\n",
       "      <th>index_group_name</th>\n",
       "      <th>section_no</th>\n",
       "      <th>section_name</th>\n",
       "      <th>garment_group_no</th>\n",
       "      <th>garment_group_name</th>\n",
       "      <th>detail_desc</th>\n",
       "    </tr>\n",
       "  </thead>\n",
       "  <tbody>\n",
       "    <tr>\n",
       "      <th>0</th>\n",
       "      <td>108775015</td>\n",
       "      <td>108775</td>\n",
       "      <td>Strap top</td>\n",
       "      <td>253</td>\n",
       "      <td>Vest top</td>\n",
       "      <td>Garment Upper body</td>\n",
       "      <td>1010016</td>\n",
       "      <td>Solid</td>\n",
       "      <td>9</td>\n",
       "      <td>Black</td>\n",
       "      <td>...</td>\n",
       "      <td>Jersey Basic</td>\n",
       "      <td>A</td>\n",
       "      <td>Ladieswear</td>\n",
       "      <td>1</td>\n",
       "      <td>Ladieswear</td>\n",
       "      <td>16</td>\n",
       "      <td>Womens Everyday Basics</td>\n",
       "      <td>1002</td>\n",
       "      <td>Jersey Basic</td>\n",
       "      <td>Jersey top with narrow shoulder straps.</td>\n",
       "    </tr>\n",
       "    <tr>\n",
       "      <th>1</th>\n",
       "      <td>108775044</td>\n",
       "      <td>108775</td>\n",
       "      <td>Strap top</td>\n",
       "      <td>253</td>\n",
       "      <td>Vest top</td>\n",
       "      <td>Garment Upper body</td>\n",
       "      <td>1010016</td>\n",
       "      <td>Solid</td>\n",
       "      <td>10</td>\n",
       "      <td>White</td>\n",
       "      <td>...</td>\n",
       "      <td>Jersey Basic</td>\n",
       "      <td>A</td>\n",
       "      <td>Ladieswear</td>\n",
       "      <td>1</td>\n",
       "      <td>Ladieswear</td>\n",
       "      <td>16</td>\n",
       "      <td>Womens Everyday Basics</td>\n",
       "      <td>1002</td>\n",
       "      <td>Jersey Basic</td>\n",
       "      <td>Jersey top with narrow shoulder straps.</td>\n",
       "    </tr>\n",
       "    <tr>\n",
       "      <th>2</th>\n",
       "      <td>108775051</td>\n",
       "      <td>108775</td>\n",
       "      <td>Strap top (1)</td>\n",
       "      <td>253</td>\n",
       "      <td>Vest top</td>\n",
       "      <td>Garment Upper body</td>\n",
       "      <td>1010017</td>\n",
       "      <td>Stripe</td>\n",
       "      <td>11</td>\n",
       "      <td>Off White</td>\n",
       "      <td>...</td>\n",
       "      <td>Jersey Basic</td>\n",
       "      <td>A</td>\n",
       "      <td>Ladieswear</td>\n",
       "      <td>1</td>\n",
       "      <td>Ladieswear</td>\n",
       "      <td>16</td>\n",
       "      <td>Womens Everyday Basics</td>\n",
       "      <td>1002</td>\n",
       "      <td>Jersey Basic</td>\n",
       "      <td>Jersey top with narrow shoulder straps.</td>\n",
       "    </tr>\n",
       "    <tr>\n",
       "      <th>3</th>\n",
       "      <td>110065001</td>\n",
       "      <td>110065</td>\n",
       "      <td>OP T-shirt (Idro)</td>\n",
       "      <td>306</td>\n",
       "      <td>Bra</td>\n",
       "      <td>Underwear</td>\n",
       "      <td>1010016</td>\n",
       "      <td>Solid</td>\n",
       "      <td>9</td>\n",
       "      <td>Black</td>\n",
       "      <td>...</td>\n",
       "      <td>Clean Lingerie</td>\n",
       "      <td>B</td>\n",
       "      <td>Lingeries/Tights</td>\n",
       "      <td>1</td>\n",
       "      <td>Ladieswear</td>\n",
       "      <td>61</td>\n",
       "      <td>Womens Lingerie</td>\n",
       "      <td>1017</td>\n",
       "      <td>Under-, Nightwear</td>\n",
       "      <td>Microfibre T-shirt bra with underwired, moulde...</td>\n",
       "    </tr>\n",
       "    <tr>\n",
       "      <th>4</th>\n",
       "      <td>110065002</td>\n",
       "      <td>110065</td>\n",
       "      <td>OP T-shirt (Idro)</td>\n",
       "      <td>306</td>\n",
       "      <td>Bra</td>\n",
       "      <td>Underwear</td>\n",
       "      <td>1010016</td>\n",
       "      <td>Solid</td>\n",
       "      <td>10</td>\n",
       "      <td>White</td>\n",
       "      <td>...</td>\n",
       "      <td>Clean Lingerie</td>\n",
       "      <td>B</td>\n",
       "      <td>Lingeries/Tights</td>\n",
       "      <td>1</td>\n",
       "      <td>Ladieswear</td>\n",
       "      <td>61</td>\n",
       "      <td>Womens Lingerie</td>\n",
       "      <td>1017</td>\n",
       "      <td>Under-, Nightwear</td>\n",
       "      <td>Microfibre T-shirt bra with underwired, moulde...</td>\n",
       "    </tr>\n",
       "  </tbody>\n",
       "</table>\n",
       "<p>5 rows × 25 columns</p>\n",
       "</div>"
      ],
      "text/plain": [
       "   article_id  product_code          prod_name  product_type_no  \\\n",
       "0   108775015        108775          Strap top              253   \n",
       "1   108775044        108775          Strap top              253   \n",
       "2   108775051        108775      Strap top (1)              253   \n",
       "3   110065001        110065  OP T-shirt (Idro)              306   \n",
       "4   110065002        110065  OP T-shirt (Idro)              306   \n",
       "\n",
       "  product_type_name  product_group_name  graphical_appearance_no  \\\n",
       "0          Vest top  Garment Upper body                  1010016   \n",
       "1          Vest top  Garment Upper body                  1010016   \n",
       "2          Vest top  Garment Upper body                  1010017   \n",
       "3               Bra           Underwear                  1010016   \n",
       "4               Bra           Underwear                  1010016   \n",
       "\n",
       "  graphical_appearance_name  colour_group_code colour_group_name  ...  \\\n",
       "0                     Solid                  9             Black  ...   \n",
       "1                     Solid                 10             White  ...   \n",
       "2                    Stripe                 11         Off White  ...   \n",
       "3                     Solid                  9             Black  ...   \n",
       "4                     Solid                 10             White  ...   \n",
       "\n",
       "   department_name index_code        index_name index_group_no  \\\n",
       "0     Jersey Basic          A        Ladieswear              1   \n",
       "1     Jersey Basic          A        Ladieswear              1   \n",
       "2     Jersey Basic          A        Ladieswear              1   \n",
       "3   Clean Lingerie          B  Lingeries/Tights              1   \n",
       "4   Clean Lingerie          B  Lingeries/Tights              1   \n",
       "\n",
       "   index_group_name section_no            section_name garment_group_no  \\\n",
       "0        Ladieswear         16  Womens Everyday Basics             1002   \n",
       "1        Ladieswear         16  Womens Everyday Basics             1002   \n",
       "2        Ladieswear         16  Womens Everyday Basics             1002   \n",
       "3        Ladieswear         61         Womens Lingerie             1017   \n",
       "4        Ladieswear         61         Womens Lingerie             1017   \n",
       "\n",
       "   garment_group_name                                        detail_desc  \n",
       "0        Jersey Basic            Jersey top with narrow shoulder straps.  \n",
       "1        Jersey Basic            Jersey top with narrow shoulder straps.  \n",
       "2        Jersey Basic            Jersey top with narrow shoulder straps.  \n",
       "3   Under-, Nightwear  Microfibre T-shirt bra with underwired, moulde...  \n",
       "4   Under-, Nightwear  Microfibre T-shirt bra with underwired, moulde...  \n",
       "\n",
       "[5 rows x 25 columns]"
      ]
     },
     "execution_count": 4,
     "metadata": {},
     "output_type": "execute_result"
    }
   ],
   "source": [
    "articles = pd.read_csv('articles.csv')\n",
    "articles.head()"
   ]
  },
  {
   "cell_type": "code",
   "execution_count": null,
   "id": "e195d281",
   "metadata": {},
   "outputs": [],
   "source": [
    "article_cnt = articles.groupby(by=['product_group_name', 'product_type_name']).count()\n",
    "article_cnt"
   ]
  },
  {
   "cell_type": "code",
   "execution_count": null,
   "id": "4e1e1b78",
   "metadata": {},
   "outputs": [],
   "source": [
    "article_cnt.product_group_name.unique()"
   ]
  },
  {
   "cell_type": "code",
   "execution_count": null,
   "id": "4ecd47b5",
   "metadata": {},
   "outputs": [],
   "source": [
    "article_dict = article_cnt.to_dict()"
   ]
  },
  {
   "cell_type": "code",
   "execution_count": null,
   "id": "d4beec1d",
   "metadata": {
    "scrolled": true
   },
   "outputs": [],
   "source": [
    "article_cnt.loc['Accessories'].reset_index()"
   ]
  },
  {
   "cell_type": "code",
   "execution_count": null,
   "id": "26541379",
   "metadata": {},
   "outputs": [],
   "source": [
    "articles['prod_name'].nunique()"
   ]
  },
  {
   "cell_type": "markdown",
   "id": "9c4a864c",
   "metadata": {},
   "source": [
    "## articles 분석 계획\n",
    "\n",
    "1. product_type_name\t카테고리명(소분류)\n",
    "    \n",
    "    product_group_name\t카테고리명(대분류)\n",
    "\n",
    "\n",
    "2. perceived_colour_master_name\t상품의 컬러(대분류)\n",
    "\n",
    "\n",
    "3. graphical_appearance_name\t상품의 패턴명\n",
    "\n",
    "\n",
    "4. department_name\t상품 라인 이름\n",
    "\n",
    "\n",
    "5. index_name\t상품 타겟 그룹 명\n",
    "    \n",
    "    index_group_name\t타겟에 따른 상품 카테고리\n",
    "    \n",
    "\n",
    "6. section_name\t상품 무드(콘셉트)\n",
    "\n",
    "\n",
    "7. garment_group_name\t상품군 명"
   ]
  },
  {
   "cell_type": "markdown",
   "id": "b1ab1f59",
   "metadata": {},
   "source": [
    "## customer  분석 계획"
   ]
  },
  {
   "cell_type": "code",
   "execution_count": 6,
   "id": "54313e9b",
   "metadata": {},
   "outputs": [
    {
     "data": {
      "text/html": [
       "<div>\n",
       "<style scoped>\n",
       "    .dataframe tbody tr th:only-of-type {\n",
       "        vertical-align: middle;\n",
       "    }\n",
       "\n",
       "    .dataframe tbody tr th {\n",
       "        vertical-align: top;\n",
       "    }\n",
       "\n",
       "    .dataframe thead th {\n",
       "        text-align: right;\n",
       "    }\n",
       "</style>\n",
       "<table border=\"1\" class=\"dataframe\">\n",
       "  <thead>\n",
       "    <tr style=\"text-align: right;\">\n",
       "      <th></th>\n",
       "      <th>customer_id</th>\n",
       "      <th>FN</th>\n",
       "      <th>Active</th>\n",
       "      <th>club_member_status</th>\n",
       "      <th>fashion_news_frequency</th>\n",
       "      <th>age</th>\n",
       "      <th>postal_code</th>\n",
       "    </tr>\n",
       "  </thead>\n",
       "  <tbody>\n",
       "    <tr>\n",
       "      <th>0</th>\n",
       "      <td>00000dbacae5abe5e23885899a1fa44253a17956c6d1c3...</td>\n",
       "      <td>NaN</td>\n",
       "      <td>NaN</td>\n",
       "      <td>ACTIVE</td>\n",
       "      <td>NONE</td>\n",
       "      <td>49.0</td>\n",
       "      <td>52043ee2162cf5aa7ee79974281641c6f11a68d276429a...</td>\n",
       "    </tr>\n",
       "    <tr>\n",
       "      <th>1</th>\n",
       "      <td>0000423b00ade91418cceaf3b26c6af3dd342b51fd051e...</td>\n",
       "      <td>NaN</td>\n",
       "      <td>NaN</td>\n",
       "      <td>ACTIVE</td>\n",
       "      <td>NONE</td>\n",
       "      <td>25.0</td>\n",
       "      <td>2973abc54daa8a5f8ccfe9362140c63247c5eee03f1d93...</td>\n",
       "    </tr>\n",
       "    <tr>\n",
       "      <th>2</th>\n",
       "      <td>000058a12d5b43e67d225668fa1f8d618c13dc232df0ca...</td>\n",
       "      <td>NaN</td>\n",
       "      <td>NaN</td>\n",
       "      <td>ACTIVE</td>\n",
       "      <td>NONE</td>\n",
       "      <td>24.0</td>\n",
       "      <td>64f17e6a330a85798e4998f62d0930d14db8db1c054af6...</td>\n",
       "    </tr>\n",
       "    <tr>\n",
       "      <th>3</th>\n",
       "      <td>00005ca1c9ed5f5146b52ac8639a40ca9d57aeff4d1bd2...</td>\n",
       "      <td>NaN</td>\n",
       "      <td>NaN</td>\n",
       "      <td>ACTIVE</td>\n",
       "      <td>NONE</td>\n",
       "      <td>54.0</td>\n",
       "      <td>5d36574f52495e81f019b680c843c443bd343d5ca5b1c2...</td>\n",
       "    </tr>\n",
       "    <tr>\n",
       "      <th>4</th>\n",
       "      <td>00006413d8573cd20ed7128e53b7b13819fe5cfc2d801f...</td>\n",
       "      <td>1.0</td>\n",
       "      <td>1.0</td>\n",
       "      <td>ACTIVE</td>\n",
       "      <td>Regularly</td>\n",
       "      <td>52.0</td>\n",
       "      <td>25fa5ddee9aac01b35208d01736e57942317d756b32ddd...</td>\n",
       "    </tr>\n",
       "  </tbody>\n",
       "</table>\n",
       "</div>"
      ],
      "text/plain": [
       "                                         customer_id   FN  Active  \\\n",
       "0  00000dbacae5abe5e23885899a1fa44253a17956c6d1c3...  NaN     NaN   \n",
       "1  0000423b00ade91418cceaf3b26c6af3dd342b51fd051e...  NaN     NaN   \n",
       "2  000058a12d5b43e67d225668fa1f8d618c13dc232df0ca...  NaN     NaN   \n",
       "3  00005ca1c9ed5f5146b52ac8639a40ca9d57aeff4d1bd2...  NaN     NaN   \n",
       "4  00006413d8573cd20ed7128e53b7b13819fe5cfc2d801f...  1.0     1.0   \n",
       "\n",
       "  club_member_status fashion_news_frequency   age  \\\n",
       "0             ACTIVE                   NONE  49.0   \n",
       "1             ACTIVE                   NONE  25.0   \n",
       "2             ACTIVE                   NONE  24.0   \n",
       "3             ACTIVE                   NONE  54.0   \n",
       "4             ACTIVE              Regularly  52.0   \n",
       "\n",
       "                                         postal_code  \n",
       "0  52043ee2162cf5aa7ee79974281641c6f11a68d276429a...  \n",
       "1  2973abc54daa8a5f8ccfe9362140c63247c5eee03f1d93...  \n",
       "2  64f17e6a330a85798e4998f62d0930d14db8db1c054af6...  \n",
       "3  5d36574f52495e81f019b680c843c443bd343d5ca5b1c2...  \n",
       "4  25fa5ddee9aac01b35208d01736e57942317d756b32ddd...  "
      ]
     },
     "execution_count": 6,
     "metadata": {},
     "output_type": "execute_result"
    }
   ],
   "source": [
    "customers = pd.read_csv('customers.csv')\n",
    "customers.head()"
   ]
  },
  {
   "cell_type": "code",
   "execution_count": 9,
   "id": "e0532013",
   "metadata": {},
   "outputs": [
    {
     "data": {
      "text/plain": [
       "customer_id               1371980\n",
       "FN                         476930\n",
       "Active                     464404\n",
       "club_member_status        1365918\n",
       "fashion_news_frequency    1355971\n",
       "age                       1356119\n",
       "postal_code               1371980\n",
       "dtype: int64"
      ]
     },
     "execution_count": 9,
     "metadata": {},
     "output_type": "execute_result"
    }
   ],
   "source": [
    "#전체 행의 개수 및 각 컬럼의 개수 파악\n",
    "customers.count()"
   ]
  },
  {
   "cell_type": "code",
   "execution_count": 10,
   "id": "3f6d38de",
   "metadata": {},
   "outputs": [
    {
     "data": {
      "text/plain": [
       "array(['ACTIVE', nan, 'PRE-CREATE', 'LEFT CLUB'], dtype=object)"
      ]
     },
     "execution_count": 10,
     "metadata": {},
     "output_type": "execute_result"
    }
   ],
   "source": [
    "#클럽멤버상태의 unique값 뽑아보기\n",
    "customers.club_member_status.unique()"
   ]
  },
  {
   "cell_type": "code",
   "execution_count": 11,
   "id": "f33699f8",
   "metadata": {},
   "outputs": [
    {
     "data": {
      "text/plain": [
       "array(['NONE', 'Regularly', nan, 'Monthly', 'None'], dtype=object)"
      ]
     },
     "execution_count": 11,
     "metadata": {},
     "output_type": "execute_result"
    }
   ],
   "source": [
    "#패션뉴스를 구독 컬럼의 unique값 뽑아보기\n",
    "customers.fashion_news_frequency.unique()"
   ]
  },
  {
   "cell_type": "code",
   "execution_count": 30,
   "id": "615635ca",
   "metadata": {},
   "outputs": [
    {
     "data": {
      "text/html": [
       "<div>\n",
       "<style scoped>\n",
       "    .dataframe tbody tr th:only-of-type {\n",
       "        vertical-align: middle;\n",
       "    }\n",
       "\n",
       "    .dataframe tbody tr th {\n",
       "        vertical-align: top;\n",
       "    }\n",
       "\n",
       "    .dataframe thead th {\n",
       "        text-align: right;\n",
       "    }\n",
       "</style>\n",
       "<table border=\"1\" class=\"dataframe\">\n",
       "  <thead>\n",
       "    <tr style=\"text-align: right;\">\n",
       "      <th></th>\n",
       "      <th>customer_id</th>\n",
       "      <th>FN</th>\n",
       "      <th>Active</th>\n",
       "      <th>club_member_status</th>\n",
       "      <th>fashion_news_frequency</th>\n",
       "      <th>age</th>\n",
       "      <th>postal_code</th>\n",
       "    </tr>\n",
       "  </thead>\n",
       "  <tbody>\n",
       "    <tr>\n",
       "      <th>0</th>\n",
       "      <td>00000dbacae5abe5e23885899a1fa44253a17956c6d1c3...</td>\n",
       "      <td>NaN</td>\n",
       "      <td>NaN</td>\n",
       "      <td>ACTIVE</td>\n",
       "      <td>NONE</td>\n",
       "      <td>49.0</td>\n",
       "      <td>52043ee2162cf5aa7ee79974281641c6f11a68d276429a...</td>\n",
       "    </tr>\n",
       "    <tr>\n",
       "      <th>1</th>\n",
       "      <td>0000423b00ade91418cceaf3b26c6af3dd342b51fd051e...</td>\n",
       "      <td>NaN</td>\n",
       "      <td>NaN</td>\n",
       "      <td>ACTIVE</td>\n",
       "      <td>NONE</td>\n",
       "      <td>25.0</td>\n",
       "      <td>2973abc54daa8a5f8ccfe9362140c63247c5eee03f1d93...</td>\n",
       "    </tr>\n",
       "    <tr>\n",
       "      <th>2</th>\n",
       "      <td>000058a12d5b43e67d225668fa1f8d618c13dc232df0ca...</td>\n",
       "      <td>NaN</td>\n",
       "      <td>NaN</td>\n",
       "      <td>ACTIVE</td>\n",
       "      <td>NONE</td>\n",
       "      <td>24.0</td>\n",
       "      <td>64f17e6a330a85798e4998f62d0930d14db8db1c054af6...</td>\n",
       "    </tr>\n",
       "    <tr>\n",
       "      <th>3</th>\n",
       "      <td>00005ca1c9ed5f5146b52ac8639a40ca9d57aeff4d1bd2...</td>\n",
       "      <td>NaN</td>\n",
       "      <td>NaN</td>\n",
       "      <td>ACTIVE</td>\n",
       "      <td>NONE</td>\n",
       "      <td>54.0</td>\n",
       "      <td>5d36574f52495e81f019b680c843c443bd343d5ca5b1c2...</td>\n",
       "    </tr>\n",
       "    <tr>\n",
       "      <th>6</th>\n",
       "      <td>0000757967448a6cb83efb3ea7a3fb9d418ac7adf2379d...</td>\n",
       "      <td>NaN</td>\n",
       "      <td>NaN</td>\n",
       "      <td>ACTIVE</td>\n",
       "      <td>NONE</td>\n",
       "      <td>20.0</td>\n",
       "      <td>fe7b8e2b3fafb89ca90db17ffeeae0fd29b795d803f749...</td>\n",
       "    </tr>\n",
       "    <tr>\n",
       "      <th>...</th>\n",
       "      <td>...</td>\n",
       "      <td>...</td>\n",
       "      <td>...</td>\n",
       "      <td>...</td>\n",
       "      <td>...</td>\n",
       "      <td>...</td>\n",
       "      <td>...</td>\n",
       "    </tr>\n",
       "    <tr>\n",
       "      <th>1371968</th>\n",
       "      <td>ffff4c4e8b57b633c1ddf8fbd53db16b962cf831baf9ed...</td>\n",
       "      <td>NaN</td>\n",
       "      <td>NaN</td>\n",
       "      <td>ACTIVE</td>\n",
       "      <td>NONE</td>\n",
       "      <td>40.0</td>\n",
       "      <td>3b4a300713f8b142836a67caa5b6d5b3f10a7650c06820...</td>\n",
       "    </tr>\n",
       "    <tr>\n",
       "      <th>1371972</th>\n",
       "      <td>ffff8f9ecdce722b5bab97fff68a6d1866492209bfe524...</td>\n",
       "      <td>NaN</td>\n",
       "      <td>NaN</td>\n",
       "      <td>ACTIVE</td>\n",
       "      <td>NONE</td>\n",
       "      <td>52.0</td>\n",
       "      <td>0de9d1ec7dc785301ca5fbe8949cfc2cfbd77e7a807270...</td>\n",
       "    </tr>\n",
       "    <tr>\n",
       "      <th>1371975</th>\n",
       "      <td>ffffbbf78b6eaac697a8a5dfbfd2bfa8113ee5b403e474...</td>\n",
       "      <td>NaN</td>\n",
       "      <td>NaN</td>\n",
       "      <td>ACTIVE</td>\n",
       "      <td>NONE</td>\n",
       "      <td>24.0</td>\n",
       "      <td>7aa399f7e669990daba2d92c577b52237380662f36480b...</td>\n",
       "    </tr>\n",
       "    <tr>\n",
       "      <th>1371976</th>\n",
       "      <td>ffffcd5046a6143d29a04fb8c424ce494a76e5cdf4fab5...</td>\n",
       "      <td>NaN</td>\n",
       "      <td>NaN</td>\n",
       "      <td>ACTIVE</td>\n",
       "      <td>NONE</td>\n",
       "      <td>21.0</td>\n",
       "      <td>3f47f1279beb72215f4de557d950e0bfa73789d24acb5e...</td>\n",
       "    </tr>\n",
       "    <tr>\n",
       "      <th>1371979</th>\n",
       "      <td>ffffd9ac14e89946416d80e791d064701994755c3ab686...</td>\n",
       "      <td>NaN</td>\n",
       "      <td>NaN</td>\n",
       "      <td>PRE-CREATE</td>\n",
       "      <td>NONE</td>\n",
       "      <td>65.0</td>\n",
       "      <td>0a1a03306fb2f62164c2a439b38c0caa64b40deaae8687...</td>\n",
       "    </tr>\n",
       "  </tbody>\n",
       "</table>\n",
       "<p>877713 rows × 7 columns</p>\n",
       "</div>"
      ],
      "text/plain": [
       "                                               customer_id  FN  Active  \\\n",
       "0        00000dbacae5abe5e23885899a1fa44253a17956c6d1c3... NaN     NaN   \n",
       "1        0000423b00ade91418cceaf3b26c6af3dd342b51fd051e... NaN     NaN   \n",
       "2        000058a12d5b43e67d225668fa1f8d618c13dc232df0ca... NaN     NaN   \n",
       "3        00005ca1c9ed5f5146b52ac8639a40ca9d57aeff4d1bd2... NaN     NaN   \n",
       "6        0000757967448a6cb83efb3ea7a3fb9d418ac7adf2379d... NaN     NaN   \n",
       "...                                                    ...  ..     ...   \n",
       "1371968  ffff4c4e8b57b633c1ddf8fbd53db16b962cf831baf9ed... NaN     NaN   \n",
       "1371972  ffff8f9ecdce722b5bab97fff68a6d1866492209bfe524... NaN     NaN   \n",
       "1371975  ffffbbf78b6eaac697a8a5dfbfd2bfa8113ee5b403e474... NaN     NaN   \n",
       "1371976  ffffcd5046a6143d29a04fb8c424ce494a76e5cdf4fab5... NaN     NaN   \n",
       "1371979  ffffd9ac14e89946416d80e791d064701994755c3ab686... NaN     NaN   \n",
       "\n",
       "        club_member_status fashion_news_frequency   age  \\\n",
       "0                   ACTIVE                   NONE  49.0   \n",
       "1                   ACTIVE                   NONE  25.0   \n",
       "2                   ACTIVE                   NONE  24.0   \n",
       "3                   ACTIVE                   NONE  54.0   \n",
       "6                   ACTIVE                   NONE  20.0   \n",
       "...                    ...                    ...   ...   \n",
       "1371968             ACTIVE                   NONE  40.0   \n",
       "1371972             ACTIVE                   NONE  52.0   \n",
       "1371975             ACTIVE                   NONE  24.0   \n",
       "1371976             ACTIVE                   NONE  21.0   \n",
       "1371979         PRE-CREATE                   NONE  65.0   \n",
       "\n",
       "                                               postal_code  \n",
       "0        52043ee2162cf5aa7ee79974281641c6f11a68d276429a...  \n",
       "1        2973abc54daa8a5f8ccfe9362140c63247c5eee03f1d93...  \n",
       "2        64f17e6a330a85798e4998f62d0930d14db8db1c054af6...  \n",
       "3        5d36574f52495e81f019b680c843c443bd343d5ca5b1c2...  \n",
       "6        fe7b8e2b3fafb89ca90db17ffeeae0fd29b795d803f749...  \n",
       "...                                                    ...  \n",
       "1371968  3b4a300713f8b142836a67caa5b6d5b3f10a7650c06820...  \n",
       "1371972  0de9d1ec7dc785301ca5fbe8949cfc2cfbd77e7a807270...  \n",
       "1371975  7aa399f7e669990daba2d92c577b52237380662f36480b...  \n",
       "1371976  3f47f1279beb72215f4de557d950e0bfa73789d24acb5e...  \n",
       "1371979  0a1a03306fb2f62164c2a439b38c0caa64b40deaae8687...  \n",
       "\n",
       "[877713 rows x 7 columns]"
      ]
     },
     "execution_count": 30,
     "metadata": {},
     "output_type": "execute_result"
    }
   ],
   "source": [
    "#NONE과 None인 값만 가지고와서 작업할 데이터 프레임 만들기 (실행 규모를 줄이기 위함)\n",
    "n_none=customers[(customers['fashion_news_frequency'] == 'NONE') | (customers['fashion_news_frequency'] == 'None')]\n",
    "n_none"
   ]
  },
  {
   "cell_type": "code",
   "execution_count": 38,
   "id": "7e6df17c",
   "metadata": {},
   "outputs": [
    {
     "data": {
      "text/plain": [
       "NONE    877711\n",
       "None         2\n",
       "Name: fashion_news_frequency, dtype: int64"
      ]
     },
     "execution_count": 38,
     "metadata": {},
     "output_type": "execute_result"
    }
   ],
   "source": [
    "#value_counts()를 통해 None과 NONE의 개수를 파악\n",
    "n_none.fashion_news_frequency.value_counts()"
   ]
  },
  {
   "cell_type": "code",
   "execution_count": 100,
   "id": "2310e8e1",
   "metadata": {},
   "outputs": [
    {
     "data": {
      "text/html": [
       "<div>\n",
       "<style scoped>\n",
       "    .dataframe tbody tr th:only-of-type {\n",
       "        vertical-align: middle;\n",
       "    }\n",
       "\n",
       "    .dataframe tbody tr th {\n",
       "        vertical-align: top;\n",
       "    }\n",
       "\n",
       "    .dataframe thead th {\n",
       "        text-align: right;\n",
       "    }\n",
       "</style>\n",
       "<table border=\"1\" class=\"dataframe\">\n",
       "  <thead>\n",
       "    <tr style=\"text-align: right;\">\n",
       "      <th></th>\n",
       "      <th>customer_id</th>\n",
       "      <th>FN</th>\n",
       "      <th>Active</th>\n",
       "      <th>club_member_status</th>\n",
       "      <th>fashion_news_frequency</th>\n",
       "      <th>age</th>\n",
       "      <th>postal_code</th>\n",
       "      <th>False</th>\n",
       "    </tr>\n",
       "  </thead>\n",
       "  <tbody>\n",
       "  </tbody>\n",
       "</table>\n",
       "</div>"
      ],
      "text/plain": [
       "Empty DataFrame\n",
       "Columns: [customer_id, FN, Active, club_member_status, fashion_news_frequency, age, postal_code, False]\n",
       "Index: []"
      ]
     },
     "execution_count": 100,
     "metadata": {},
     "output_type": "execute_result"
    }
   ],
   "source": [
    "#깜빡하고 첨에 확인 안했는데, 원래는 값이 적은 None 을 가지고와서 NONE으로 바꿔줘도 되는지 데이터 살펴봐야함\n",
    "n_none[n_none['fashion_news_frequency'] == 'None']"
   ]
  },
  {
   "cell_type": "code",
   "execution_count": 48,
   "id": "1ab93d0e",
   "metadata": {},
   "outputs": [
    {
     "name": "stderr",
     "output_type": "stream",
     "text": [
      "C:\\Users\\monam\\AppData\\Local\\Temp/ipykernel_62228/4235207302.py:1: SettingWithCopyWarning: \n",
      "A value is trying to be set on a copy of a slice from a DataFrame\n",
      "\n",
      "See the caveats in the documentation: https://pandas.pydata.org/pandas-docs/stable/user_guide/indexing.html#returning-a-view-versus-a-copy\n",
      "  customers['fashion_news_frequency'][customers['fashion_news_frequency'] == 'None'] = 'NONE'\n"
     ]
    }
   ],
   "source": [
    "customers['fashion_news_frequency'][customers['fashion_news_frequency'] == 'None'] = 'NONE'\n",
    "#None이면 NONE 으로 변경해주라"
   ]
  },
  {
   "cell_type": "code",
   "execution_count": 51,
   "id": "33c4f36f",
   "metadata": {},
   "outputs": [],
   "source": [
    "#변수 이름 약간 잘못 지었는데, 암튼 fashion frequency에서 각각의 항목이 얼만큼의 비중을 차지하는지 확인하기 위해 데이터 프레임 생성\n",
    "#첨에는 데이터프레임 잘 만들어지나 확인하려고 단계적으로 변수에 넣어서 지정\n",
    "#다음 코드에서는 한 줄에 그냥 나타내도 됨\n",
    "vc_customers = customers.fashion_news_frequency.value_counts()"
   ]
  },
  {
   "cell_type": "code",
   "execution_count": 54,
   "id": "334b3904",
   "metadata": {},
   "outputs": [],
   "source": [
    "#데이터프레임 만들기\n",
    "vc_customers = pd.DataFrame(vc_customers)"
   ]
  },
  {
   "cell_type": "code",
   "execution_count": 55,
   "id": "d30bc09d",
   "metadata": {},
   "outputs": [
    {
     "data": {
      "text/html": [
       "<div>\n",
       "<style scoped>\n",
       "    .dataframe tbody tr th:only-of-type {\n",
       "        vertical-align: middle;\n",
       "    }\n",
       "\n",
       "    .dataframe tbody tr th {\n",
       "        vertical-align: top;\n",
       "    }\n",
       "\n",
       "    .dataframe thead th {\n",
       "        text-align: right;\n",
       "    }\n",
       "</style>\n",
       "<table border=\"1\" class=\"dataframe\">\n",
       "  <thead>\n",
       "    <tr style=\"text-align: right;\">\n",
       "      <th></th>\n",
       "      <th>fashion_news_frequency</th>\n",
       "    </tr>\n",
       "  </thead>\n",
       "  <tbody>\n",
       "    <tr>\n",
       "      <th>NONE</th>\n",
       "      <td>877713</td>\n",
       "    </tr>\n",
       "    <tr>\n",
       "      <th>Regularly</th>\n",
       "      <td>477416</td>\n",
       "    </tr>\n",
       "    <tr>\n",
       "      <th>Monthly</th>\n",
       "      <td>842</td>\n",
       "    </tr>\n",
       "  </tbody>\n",
       "</table>\n",
       "</div>"
      ],
      "text/plain": [
       "           fashion_news_frequency\n",
       "NONE                       877713\n",
       "Regularly                  477416\n",
       "Monthly                       842"
      ]
     },
     "execution_count": 55,
     "metadata": {},
     "output_type": "execute_result"
    }
   ],
   "source": [
    "vc_customers"
   ]
  },
  {
   "cell_type": "code",
   "execution_count": 74,
   "id": "f34ccda4",
   "metadata": {},
   "outputs": [],
   "source": [
    "#percentage 컬럼 생성, 컬럼 정의 (백분율입니다)\n",
    "vc_customers['percentage'] = round((vc_customers['fashion_news_frequency']*100) / sum(vc_customers['fashion_news_frequency'])).astype('str') + '%'\n",
    "#반올림처리 후 데이터타입을 str으로 바꿔주고, % 기호를 추가하여 더 깔끔하게 보이도록 함"
   ]
  },
  {
   "cell_type": "code",
   "execution_count": 75,
   "id": "9bbad1e6",
   "metadata": {},
   "outputs": [
    {
     "data": {
      "text/html": [
       "<div>\n",
       "<style scoped>\n",
       "    .dataframe tbody tr th:only-of-type {\n",
       "        vertical-align: middle;\n",
       "    }\n",
       "\n",
       "    .dataframe tbody tr th {\n",
       "        vertical-align: top;\n",
       "    }\n",
       "\n",
       "    .dataframe thead th {\n",
       "        text-align: right;\n",
       "    }\n",
       "</style>\n",
       "<table border=\"1\" class=\"dataframe\">\n",
       "  <thead>\n",
       "    <tr style=\"text-align: right;\">\n",
       "      <th></th>\n",
       "      <th>fashion_news_frequency</th>\n",
       "      <th>percentage</th>\n",
       "    </tr>\n",
       "  </thead>\n",
       "  <tbody>\n",
       "    <tr>\n",
       "      <th>NONE</th>\n",
       "      <td>877713</td>\n",
       "      <td>65.0%</td>\n",
       "    </tr>\n",
       "    <tr>\n",
       "      <th>Regularly</th>\n",
       "      <td>477416</td>\n",
       "      <td>35.0%</td>\n",
       "    </tr>\n",
       "    <tr>\n",
       "      <th>Monthly</th>\n",
       "      <td>842</td>\n",
       "      <td>0.0%</td>\n",
       "    </tr>\n",
       "  </tbody>\n",
       "</table>\n",
       "</div>"
      ],
      "text/plain": [
       "           fashion_news_frequency percentage\n",
       "NONE                       877713      65.0%\n",
       "Regularly                  477416      35.0%\n",
       "Monthly                       842       0.0%"
      ]
     },
     "execution_count": 75,
     "metadata": {},
     "output_type": "execute_result"
    }
   ],
   "source": [
    "vc_customers\n",
    "#잡지 구독하는 고객들 비중"
   ]
  },
  {
   "cell_type": "code",
   "execution_count": 76,
   "id": "ad520abb",
   "metadata": {},
   "outputs": [
    {
     "data": {
      "text/html": [
       "<div>\n",
       "<style scoped>\n",
       "    .dataframe tbody tr th:only-of-type {\n",
       "        vertical-align: middle;\n",
       "    }\n",
       "\n",
       "    .dataframe tbody tr th {\n",
       "        vertical-align: top;\n",
       "    }\n",
       "\n",
       "    .dataframe thead th {\n",
       "        text-align: right;\n",
       "    }\n",
       "</style>\n",
       "<table border=\"1\" class=\"dataframe\">\n",
       "  <thead>\n",
       "    <tr style=\"text-align: right;\">\n",
       "      <th></th>\n",
       "      <th>club_member_status</th>\n",
       "    </tr>\n",
       "  </thead>\n",
       "  <tbody>\n",
       "    <tr>\n",
       "      <th>ACTIVE</th>\n",
       "      <td>1272491</td>\n",
       "    </tr>\n",
       "    <tr>\n",
       "      <th>PRE-CREATE</th>\n",
       "      <td>92960</td>\n",
       "    </tr>\n",
       "    <tr>\n",
       "      <th>LEFT CLUB</th>\n",
       "      <td>467</td>\n",
       "    </tr>\n",
       "  </tbody>\n",
       "</table>\n",
       "</div>"
      ],
      "text/plain": [
       "            club_member_status\n",
       "ACTIVE                 1272491\n",
       "PRE-CREATE               92960\n",
       "LEFT CLUB                  467"
      ]
     },
     "execution_count": 76,
     "metadata": {},
     "output_type": "execute_result"
    }
   ],
   "source": [
    "#고객 상태는 그냥 한 번에 데이터프레임으로 만들어줌 (만약에 이렇게 확인할 수 있는 컬럼이 더 있었다면 함수로 만들어줬을듯)\n",
    "status = pd.DataFrame(customers.club_member_status.value_counts())\n",
    "status"
   ]
  },
  {
   "cell_type": "code",
   "execution_count": 78,
   "id": "0f26ef3d",
   "metadata": {},
   "outputs": [],
   "source": [
    "status['percentage'] = round((status['club_member_status']*100) / sum(status['club_member_status'])).astype('str') + '%'"
   ]
  },
  {
   "cell_type": "code",
   "execution_count": 91,
   "id": "458c06d0",
   "metadata": {},
   "outputs": [
    {
     "data": {
      "text/html": [
       "<div>\n",
       "<style scoped>\n",
       "    .dataframe tbody tr th:only-of-type {\n",
       "        vertical-align: middle;\n",
       "    }\n",
       "\n",
       "    .dataframe tbody tr th {\n",
       "        vertical-align: top;\n",
       "    }\n",
       "\n",
       "    .dataframe thead th {\n",
       "        text-align: right;\n",
       "    }\n",
       "</style>\n",
       "<table border=\"1\" class=\"dataframe\">\n",
       "  <thead>\n",
       "    <tr style=\"text-align: right;\">\n",
       "      <th></th>\n",
       "      <th>club_member_status</th>\n",
       "      <th>percentage</th>\n",
       "    </tr>\n",
       "    <tr>\n",
       "      <th>index</th>\n",
       "      <th></th>\n",
       "      <th></th>\n",
       "    </tr>\n",
       "  </thead>\n",
       "  <tbody>\n",
       "    <tr>\n",
       "      <th>ACTIVE</th>\n",
       "      <td>1272491</td>\n",
       "      <td>93.0%</td>\n",
       "    </tr>\n",
       "    <tr>\n",
       "      <th>PRE-CREATE</th>\n",
       "      <td>92960</td>\n",
       "      <td>7.0%</td>\n",
       "    </tr>\n",
       "    <tr>\n",
       "      <th>LEFT CLUB</th>\n",
       "      <td>467</td>\n",
       "      <td>0.0%</td>\n",
       "    </tr>\n",
       "  </tbody>\n",
       "</table>\n",
       "</div>"
      ],
      "text/plain": [
       "            club_member_status percentage\n",
       "index                                    \n",
       "ACTIVE                 1272491      93.0%\n",
       "PRE-CREATE               92960       7.0%\n",
       "LEFT CLUB                  467       0.0%"
      ]
     },
     "execution_count": 91,
     "metadata": {},
     "output_type": "execute_result"
    }
   ],
   "source": [
    "status.set_index(keys='index')"
   ]
  },
  {
   "cell_type": "code",
   "execution_count": 98,
   "id": "caac43f2",
   "metadata": {},
   "outputs": [
    {
     "name": "stdout",
     "output_type": "stream",
     "text": [
      "cusotmer의 평균 나이:  36.39 세\n"
     ]
    }
   ],
   "source": [
    "#customer의 평균 나이\n",
    "print('cusotmer의 평균 나이: ', round(customers.age.mean(),2), '세')"
   ]
  },
  {
   "cell_type": "code",
   "execution_count": null,
   "id": "cba63d78",
   "metadata": {},
   "outputs": [],
   "source": []
  }
 ],
 "metadata": {
  "kernelspec": {
   "display_name": "Python 3 (ipykernel)",
   "language": "python",
   "name": "python3"
  },
  "language_info": {
   "codemirror_mode": {
    "name": "ipython",
    "version": 3
   },
   "file_extension": ".py",
   "mimetype": "text/x-python",
   "name": "python",
   "nbconvert_exporter": "python",
   "pygments_lexer": "ipython3",
   "version": "3.8.10"
  }
 },
 "nbformat": 4,
 "nbformat_minor": 5
}
